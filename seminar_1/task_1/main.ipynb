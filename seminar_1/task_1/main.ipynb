{
 "cells": [
  {
   "cell_type": "code",
   "execution_count": 46,
   "metadata": {},
   "outputs": [],
   "source": [
    "class Node(object):\n",
    "    def __init__(self, data = None, next = None):\n",
    "        self.data = data\n",
    "        self.next = next\n",
    "\n",
    "class LinkedList(object):\n",
    "    def __init__(self):\n",
    "        self.head = None\n",
    "    def __init__(self, array):\n",
    "        self.head = None\n",
    "        for x in array[::-1]:\n",
    "            self.append_front(x)\n",
    "    def __eq__(self, other):\n",
    "        iter1, iter2 = self.head, other.head\n",
    "        while iter1 != None and iter2 != None:\n",
    "            if iter1.data != iter2.data: return False\n",
    "            iter1, iter2  = iter1.next, iter2.next\n",
    "        if iter1 != iter2: return False\n",
    "        return True\n",
    "    def append_front(self, data):\n",
    "        new_node = Node(data)\n",
    "        if self.head == None:\n",
    "            self.head = new_node\n",
    "        else:\n",
    "            new_node.next = self.head\n",
    "            self.head = new_node\n",
    "    def append_back(self, data):\n",
    "        new_node = Node(data)\n",
    "        if self.head == None:\n",
    "            self.head = new_node\n",
    "        else:\n",
    "            curr_iter = self.head\n",
    "            while curr_iter.next != None:\n",
    "                curr_iter = curr_iter.next\n",
    "            curr_iter.next = new_node\n",
    "    def print_list(self):\n",
    "        curr_iter = self.head\n",
    "        while curr_iter != None:\n",
    "            print(f'{curr_iter.data}-->', end='')\n",
    "            curr_iter = curr_iter.next\n",
    "        print('None')"
   ]
  },
  {
   "cell_type": "code",
   "execution_count": 64,
   "metadata": {},
   "outputs": [],
   "source": [
    "def delete_element(target_list, value):\n",
    "    while target_list.head != None and target_list.head.data == value:\n",
    "        target_list.head = target_list.head.next\n",
    "    if target_list.head == None:\n",
    "        return\n",
    "    curr_iter, prev_iter = target_list.head.next, target_list.head\n",
    "    while curr_iter != None:\n",
    "        if curr_iter.data == value:\n",
    "            prev_iter.next = curr_iter.next\n",
    "            curr_iter = curr_iter.next\n",
    "        else:\n",
    "            prev_iter, curr_iter = curr_iter, curr_iter.next"
   ]
  },
  {
   "cell_type": "code",
   "execution_count": 71,
   "metadata": {},
   "outputs": [],
   "source": [
    "ans1, ans2, ans3, ans4, ans5 = (LinkedList([1, 3]), LinkedList([]),\n",
    "                                LinkedList([i for i in range(1, 11, 2)]),  \n",
    "                                LinkedList([i**2 for i in range(1, 11) if i%3 == 0]), LinkedList([]))\n",
    "target1, target2, target3, target4, target5 = (LinkedList([1, 2, 3]), LinkedList([1, 1, 1]), \n",
    "                                               LinkedList([i for i in range(1, 11)]), \n",
    "                                               LinkedList([i**2 for i in range(1, 11)]), LinkedList([]))\n",
    "delete_element(target1, 2)\n",
    "delete_element(target2, 1)\n",
    "for i in range(1, 11):\n",
    "    if i % 2 == 0:\n",
    "        delete_element(target3, i)\n",
    "for i in range(1, 11):\n",
    "    if i**2 % 3 != 0:\n",
    "        delete_element(target4, i**2)\n",
    "delete_element(target5, 1727)\n",
    "assert ans1 == target1\n",
    "assert ans2 == target2\n",
    "assert ans3 == target3\n",
    "assert ans4 == target4\n",
    "assert ans5 == target5"
   ]
  },
  {
   "cell_type": "code",
   "execution_count": null,
   "metadata": {},
   "outputs": [],
   "source": []
  },
  {
   "cell_type": "code",
   "execution_count": null,
   "metadata": {},
   "outputs": [],
   "source": []
  }
 ],
 "metadata": {
  "kernelspec": {
   "display_name": "Python 3",
   "language": "python",
   "name": "python3"
  },
  "language_info": {
   "codemirror_mode": {
    "name": "ipython",
    "version": 3
   },
   "file_extension": ".py",
   "mimetype": "text/x-python",
   "name": "python",
   "nbconvert_exporter": "python",
   "pygments_lexer": "ipython3",
   "version": "3.11.1"
  }
 },
 "nbformat": 4,
 "nbformat_minor": 2
}
