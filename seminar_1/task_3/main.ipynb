{
 "cells": [
  {
   "cell_type": "code",
   "execution_count": 2,
   "metadata": {},
   "outputs": [],
   "source": [
    "class Node(object):\n",
    "    def __init__(self, data = None, next = None):\n",
    "        self.data = data\n",
    "        self.next = next\n",
    "\n",
    "class LinkedList(object):\n",
    "    def __init__(self):\n",
    "        self.head = None\n",
    "    def __init__(self, array=[]):\n",
    "        self.head = None\n",
    "        for x in array[::-1]:\n",
    "            self.append_front(x)\n",
    "    def __eq__(self, other):\n",
    "        iter1, iter2 = self.head, other.head\n",
    "        while iter1 != None and iter2 != None:\n",
    "            if iter1.data != iter2.data: return False\n",
    "            iter1, iter2  = iter1.next, iter2.next\n",
    "        if iter1 != iter2: return False\n",
    "        return True\n",
    "    def append_front(self, data):\n",
    "        new_node = Node(data)\n",
    "        if self.head == None:\n",
    "            self.head = new_node\n",
    "        else:\n",
    "            new_node.next = self.head\n",
    "            self.head = new_node\n",
    "    def append_back(self, data):\n",
    "        new_node = Node(data)\n",
    "        if self.head == None:\n",
    "            self.head = new_node\n",
    "        else:\n",
    "            curr_iter = self.head\n",
    "            while curr_iter.next != None:\n",
    "                curr_iter = curr_iter.next\n",
    "            curr_iter.next = new_node\n",
    "    def print_list(self):\n",
    "        curr_iter = self.head\n",
    "        while curr_iter != None:\n",
    "            print(f'{curr_iter.data}-->', end='')\n",
    "            curr_iter = curr_iter.next\n",
    "        print('None')\n",
    "    def add_node_front(self, node):\n",
    "        if self.head == None:\n",
    "            self.head = node\n",
    "        else:\n",
    "            node.next = self.head\n",
    "            self.head = node\n",
    "    def add_node_back(self, node):\n",
    "        if self.head == None:\n",
    "            self.head = node\n",
    "        else:\n",
    "            curr_iter = self.head\n",
    "            while curr_iter.next != None:\n",
    "                curr_iter = curr_iter.next\n",
    "            curr_iter.next = node\n",
    "    def has_cycle(self):\n",
    "        if self.head == None:\n",
    "            return False\n",
    "        slow_iter, fast_iter = self.head, self.head.next\n",
    "        while slow_iter != None and fast_iter.next != None:\n",
    "            if slow_iter == fast_iter:\n",
    "                return True\n",
    "            slow_iter, fast_iter = slow_iter.next, fast_iter.next.next\n",
    "        return False"
   ]
  },
  {
   "cell_type": "code",
   "execution_count": 3,
   "metadata": {},
   "outputs": [
    {
     "ename": "TypeError",
     "evalue": "LinkedList.__init__() missing 1 required positional argument: 'array'",
     "output_type": "error",
     "traceback": [
      "\u001b[1;31m---------------------------------------------------------------------------\u001b[0m",
      "\u001b[1;31mTypeError\u001b[0m                                 Traceback (most recent call last)",
      "\u001b[1;32mc:\\UniversityProgramming\\MIPT\\Extra\\VK-Algorithms\\seminar_1\\task_3\\main.ipynb Cell 2\u001b[0m line \u001b[0;36m3\n\u001b[0;32m      <a href='vscode-notebook-cell:/c%3A/UniversityProgramming/MIPT/Extra/VK-Algorithms/seminar_1/task_3/main.ipynb#W1sZmlsZQ%3D%3D?line=0'>1</a>\u001b[0m node1, node2, node3, node4, node5 \u001b[39m=\u001b[39m Node(\u001b[39m1\u001b[39m), Node(\u001b[39m2\u001b[39m), Node(\u001b[39m3\u001b[39m), Node(\u001b[39m4\u001b[39m), Node(\u001b[39m5\u001b[39m)\n\u001b[1;32m----> <a href='vscode-notebook-cell:/c%3A/UniversityProgramming/MIPT/Extra/VK-Algorithms/seminar_1/task_3/main.ipynb#W1sZmlsZQ%3D%3D?line=2'>3</a>\u001b[0m target1 \u001b[39m=\u001b[39m LinkedList()\n\u001b[0;32m      <a href='vscode-notebook-cell:/c%3A/UniversityProgramming/MIPT/Extra/VK-Algorithms/seminar_1/task_3/main.ipynb#W1sZmlsZQ%3D%3D?line=3'>4</a>\u001b[0m target1\u001b[39m.\u001b[39madd_node_back(node1)\n\u001b[0;32m      <a href='vscode-notebook-cell:/c%3A/UniversityProgramming/MIPT/Extra/VK-Algorithms/seminar_1/task_3/main.ipynb#W1sZmlsZQ%3D%3D?line=4'>5</a>\u001b[0m target1\u001b[39m.\u001b[39madd_node_back(node2)\n",
      "\u001b[1;31mTypeError\u001b[0m: LinkedList.__init__() missing 1 required positional argument: 'array'"
     ]
    }
   ],
   "source": [
    "node1, node2, node3, node4, node5 = Node(1), Node(2), Node(3), Node(4), Node(5)\n",
    "\n",
    "target1 = LinkedList()\n",
    "target1.add_node_back(node1)\n",
    "target1.add_node_back(node2)\n",
    "target1.add_node_back(node3)\n",
    "target1.add_node_back(node4)\n",
    "target1.add_node_back(node5)\n",
    "assert target1.has_cycle() == False\n"
   ]
  },
  {
   "cell_type": "code",
   "execution_count": null,
   "metadata": {},
   "outputs": [],
   "source": []
  }
 ],
 "metadata": {
  "kernelspec": {
   "display_name": "Python 3",
   "language": "python",
   "name": "python3"
  },
  "language_info": {
   "codemirror_mode": {
    "name": "ipython",
    "version": 3
   },
   "file_extension": ".py",
   "mimetype": "text/x-python",
   "name": "python",
   "nbconvert_exporter": "python",
   "pygments_lexer": "ipython3",
   "version": "3.11.1"
  }
 },
 "nbformat": 4,
 "nbformat_minor": 2
}
