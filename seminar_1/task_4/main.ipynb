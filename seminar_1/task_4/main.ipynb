{
 "cells": [
  {
   "cell_type": "code",
   "execution_count": 1,
   "metadata": {},
   "outputs": [],
   "source": [
    "def get_target_index(array, summa):\n",
    "    i, j = 0, len(array)-1\n",
    "    while i < j:\n",
    "        if array[i] + array[j] > summa:\n",
    "            j-=1\n",
    "        elif array[j] + array[i] < summa:\n",
    "            i+=1\n",
    "        else:\n",
    "            return i, j"
   ]
  },
  {
   "cell_type": "code",
   "execution_count": 6,
   "metadata": {},
   "outputs": [],
   "source": [
    "assert get_target_index([1, 12, 31, 87], 32) == (0, 2,)\n",
    "assert get_target_index([1, 2, 3, 90, 120], 210) == (3, 4,)\n",
    "assert get_target_index([1, 5, 9, 12, 61], 10) == (0, 2,)\n",
    "assert get_target_index([1, 12, 31, 87], 43) == (1, 2,)\n",
    "assert get_target_index([1, 5, 11, 18, 26, 35, 45], 50) == (1, 6,)"
   ]
  },
  {
   "cell_type": "code",
   "execution_count": null,
   "metadata": {},
   "outputs": [],
   "source": []
  }
 ],
 "metadata": {
  "kernelspec": {
   "display_name": "Python 3",
   "language": "python",
   "name": "python3"
  },
  "language_info": {
   "codemirror_mode": {
    "name": "ipython",
    "version": 3
   },
   "file_extension": ".py",
   "mimetype": "text/x-python",
   "name": "python",
   "nbconvert_exporter": "python",
   "pygments_lexer": "ipython3",
   "version": "3.11.1"
  }
 },
 "nbformat": 4,
 "nbformat_minor": 2
}
